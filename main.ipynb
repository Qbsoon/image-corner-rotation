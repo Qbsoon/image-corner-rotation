{
 "cells": [
  {
   "cell_type": "code",
   "execution_count": 15,
   "id": "b8c66f43",
   "metadata": {},
   "outputs": [],
   "source": [
    "# Importy do całego projektu\n",
    "import os\n",
    "from IPython.display import display, clear_output\n",
    "from ultralytics import YOLO\n",
    "from pathlib import Path\n",
    "import cv2\n",
    "import numpy as np\n",
    "import random\n",
    "from tqdm import tqdm\n",
    "import shutil"
   ]
  },
  {
   "cell_type": "code",
   "execution_count": 2,
   "id": "c06cd52c",
   "metadata": {},
   "outputs": [
    {
     "data": {
      "text/plain": [
       "True"
      ]
     },
     "execution_count": 2,
     "metadata": {},
     "output_type": "execute_result"
    }
   ],
   "source": [
    "import torch\n",
    "torch.cuda.is_available()"
   ]
  },
  {
   "cell_type": "code",
   "execution_count": 28,
   "id": "8997b216",
   "metadata": {},
   "outputs": [
    {
     "name": "stdout",
     "output_type": "stream",
     "text": [
      "Downloading from https://www.kaggle.com/api/v1/datasets/download/jehanbhathena/weather-dataset?dataset_version_number=3...\n"
     ]
    },
    {
     "name": "stderr",
     "output_type": "stream",
     "text": [
      "100%|██████████| 587M/587M [01:19<00:00, 7.70MB/s] "
     ]
    },
    {
     "name": "stdout",
     "output_type": "stream",
     "text": [
      "Extracting files...\n"
     ]
    },
    {
     "name": "stderr",
     "output_type": "stream",
     "text": [
      "\n"
     ]
    }
   ],
   "source": [
    "import kagglehub\n",
    "#dataset_path = kagglehub.dataset_download(\"jessicali9530/lfw-dataset\")\n",
    "#dataset_path = kagglehub.dataset_download(\"chiragsaipanuganti/morph\")\n",
    "dataset_path = kagglehub.dataset_download(\"jehanbhathena/weather-dataset\")"
   ]
  },
  {
   "cell_type": "code",
   "execution_count": 10,
   "id": "29a5cbd7",
   "metadata": {},
   "outputs": [],
   "source": [
    "# Pobranie ścieżek do obrazów\n",
    "image_paths = []\n",
    "for root, dirs, files in os.walk(dataset_path):\n",
    "    for file in files:\n",
    "        if file.lower().endswith(('.jpg')):\n",
    "            image_paths.append(os.path.join(root, file))"
   ]
  },
  {
   "cell_type": "code",
   "execution_count": 11,
   "id": "deb582ce",
   "metadata": {},
   "outputs": [],
   "source": [
    "def populate_card_labels_v3(image_path, height=400, width=400, im_width=250, im_height=250):\n",
    "\tcard = np.ones((height, width, 3), dtype=np.uint8) * 255\n",
    "\timg = cv2.imread(image_path)\n",
    "\timg = cv2.resize(img, (im_width, im_height))\n",
    "\timg = cv2.cvtColor(img, cv2.COLOR_BGR2RGB)\n",
    "\n",
    "\tdiagonal_size = int(np.sqrt(im_width**2 + im_height**2)) + 10\n",
    "\trot_canvas = np.ones((diagonal_size, diagonal_size, 3), dtype=np.uint8) * 255\n",
    "\tstart_x = (diagonal_size - im_width) // 2\n",
    "\tstart_y = (diagonal_size - im_height) // 2\n",
    "\trot_canvas[start_y:start_y + im_height, start_x:start_x + im_width] = img\n",
    "\n",
    "\trot_angle = random.uniform(-179, 180)\n",
    "\tcenter = (diagonal_size // 2, diagonal_size // 2)\n",
    "\trot_matrix = cv2.getRotationMatrix2D(center, rot_angle, 1.0)\n",
    "\trot_img = cv2.warpAffine(rot_canvas, rot_matrix, (diagonal_size, diagonal_size), borderValue=(255, 255, 255))\n",
    "\n",
    "\tcard_x = (width - diagonal_size) // 2\n",
    "\tcard_y = (height - diagonal_size) // 2\n",
    "\tcard[card_y:card_y+diagonal_size, card_x:card_x+diagonal_size] = rot_img\n",
    "\n",
    "\tcorners = np.array([\n",
    "\t\t[start_x, start_y],\n",
    "\t\t[start_x + im_width, start_y],\n",
    "\t\t[start_x + im_width, start_y + im_height],\n",
    "\t\t[start_x, start_y + im_height]\n",
    "\t], dtype=np.float32)\n",
    "\n",
    "\tones = np.ones((corners.shape[0], 1))\n",
    "\tcorners_homo = np.hstack([corners, ones])\n",
    "\trotated_corners = (rot_matrix @ corners_homo.T).T\n",
    "\trotated_corners += np.array([card_x, card_y])\n",
    "\n",
    "\tx_min, y_min = rotated_corners.min(axis=0)\n",
    "\tx_max, y_max = rotated_corners.max(axis=0)\n",
    "\n",
    "\tbbox_cx = (x_min + x_max) / 2 / width\n",
    "\tbbox_cy = (y_min + y_max) / 2 / height\n",
    "\tbbox_w = (x_max - x_min) / width\n",
    "\tbbox_h = (y_max - y_min) / height\n",
    "\n",
    "\tnorm_corners = []\n",
    "\tfor x, y in rotated_corners:\n",
    "\t\tnorm_corners.extend([x / width, y / height, 2])\n",
    "\n",
    "\tlabel = [0, bbox_cx, bbox_cy, bbox_w, bbox_h] + norm_corners\n",
    "\n",
    "\treturn card, label\n",
    "\n",
    "def get_cards_labels(image_paths, num, im_width, im_height, output_path, starting_idx=0):\n",
    "\toutput_path = Path(output_path)\n",
    "\timages_path = \"images\" / output_path\n",
    "\tlabels_path = \"labels\" / output_path\n",
    "\timages_path.mkdir(parents=True, exist_ok=True)\n",
    "\tlabels_path.mkdir(parents=True, exist_ok=True)\n",
    "\tcards = []\n",
    "    \n",
    "\tfor i in range(starting_idx, starting_idx+num):\n",
    "\t\tcard, label = populate_card_labels_v3(\n",
    "\t\t\timage_paths[i],\n",
    "\t\t\tim_width=im_width,\n",
    "\t\t\tim_height=im_height\n",
    "\t\t)\n",
    "\n",
    "\t\tfilename = f\"card_{i+1}\"\n",
    "\t\timage_file = images_path / f\"{filename}.jpg\"\n",
    "\t\tlabel_file = labels_path / f\"{filename}.txt\"\n",
    "        \n",
    "\t\tcard_bgr = cv2.cvtColor(card, cv2.COLOR_RGB2BGR)\n",
    "\t\tcv2.imwrite(str(image_file), card_bgr)\n",
    "        \n",
    "\t\tlabel_line = \" \".join(f\"{v:.6f}\" if isinstance(v, float) else str(v) for v in label)\n",
    "\n",
    "\t\twith open(label_file, \"w\") as f:\n",
    "\t\t\tf.write(label_line)\n",
    "\n",
    "\t\tcards.append({\"filename\": f\"{filename}.jpg\", \"label\": label})\n",
    "    \n",
    "\treturn cards"
   ]
  },
  {
   "cell_type": "code",
   "execution_count": 29,
   "id": "0bce0ae1",
   "metadata": {},
   "outputs": [
    {
     "name": "stderr",
     "output_type": "stream",
     "text": [
      "Generating cards: 100%|██████████| 15/15 [00:15<00:00,  1.03s/card]\n"
     ]
    }
   ],
   "source": [
    "shutil.rmtree(\"images\", ignore_errors=True)\n",
    "shutil.rmtree(\"labels\", ignore_errors=True)\n",
    "\n",
    "random.shuffle(image_paths)\n",
    "\n",
    "i = 0\n",
    "max = len(image_paths)\n",
    "\n",
    "train_p = int(max * 0.7)\n",
    "valid_p = int(max * 0.2)\n",
    "test_p = max - train_p - valid_p\n",
    "\n",
    "res = [250, 200, 150, 175, 275]\n",
    "res_n = int(train_p / len(res))\n",
    "res_idx = 0\n",
    "\n",
    "iter = len(res)\n",
    "progress = None\n",
    "progress = tqdm(total=3*len(res), desc=\"Generating cards\", unit=\"card\")\n",
    "for j in res:\n",
    "\tcards = get_cards_labels(image_paths, num=res_n, im_width=j, im_height=j, output_path='train', starting_idx=res_idx)\n",
    "\tprogress.update(1)\n",
    "\tres_idx += res_n\n",
    "res_n = int(valid_p / len(res))\n",
    "for j in res:\n",
    "\tcards = get_cards_labels(image_paths, num=res_n, im_width=j, im_height=j, output_path='valid', starting_idx=res_idx)\n",
    "\tprogress.update(1)\n",
    "\tres_idx += res_n\n",
    "res_n = int(test_p / len(res))\n",
    "for j in res:\n",
    "\tcards = get_cards_labels(image_paths, num=res_n, im_width=j, im_height=j, output_path='test', starting_idx=res_idx)\n",
    "\tprogress.update(1)\n",
    "\tres_idx += res_n\n",
    "\n",
    "if progress:\n",
    "\tprogress.close()"
   ]
  },
  {
   "cell_type": "code",
   "execution_count": 30,
   "id": "2706ae83",
   "metadata": {},
   "outputs": [],
   "source": [
    "model = YOLO(\"runs/pose/image_rotation_model_main/weights/best.pt\")"
   ]
  },
  {
   "cell_type": "code",
   "execution_count": null,
   "id": "15a84785",
   "metadata": {},
   "outputs": [
    {
     "name": "stdout",
     "output_type": "stream",
     "text": [
      "New https://pypi.org/project/ultralytics/8.3.151 available 😃 Update with 'pip install -U ultralytics'\n",
      "Ultralytics 8.3.144 🚀 Python-3.11.9 torch-2.6.0+cu124 CUDA:0 (NVIDIA GeForce RTX 4070 Ti SUPER, 16376MiB)\n",
      "\u001b[34m\u001b[1mengine/trainer: \u001b[0magnostic_nms=False, amp=True, augment=False, auto_augment=none, batch=32, bgr=0.0, box=7.5, cache=ram, cfg=None, classes=None, close_mosaic=10, cls=0.5, conf=None, copy_paste=0.0, copy_paste_mode=flip, cos_lr=False, cutmix=0.0, data=image_rotation.yaml, degrees=5.0, deterministic=True, device=None, dfl=1.5, dnn=False, dropout=0.0, dynamic=False, embed=None, epochs=10, erasing=0.0, exist_ok=True, fliplr=0.5, flipud=0.0, format=torchscript, fraction=1.0, freeze=None, half=False, hsv_h=0.015, hsv_s=0.7, hsv_v=0.4, imgsz=416, int8=False, iou=0.7, keras=False, kobj=1.0, line_width=None, lr0=0.01, lrf=0.01, mask_ratio=4, max_det=300, mixup=0.0, mode=train, model=runs/pose/image_rotation_model_main/weights/best.pt, momentum=0.937, mosaic=0.0, multi_scale=False, name=image_rotation_model_train, nbs=64, nms=False, opset=None, optimize=False, optimizer=auto, overlap_mask=True, patience=100, perspective=0.0, plots=True, pose=12.0, pretrained=True, profile=False, project=None, rect=False, resume=False, retina_masks=False, save=True, save_conf=False, save_crop=False, save_dir=runs/pose/image_rotation_model_train, save_frames=False, save_json=False, save_period=-1, save_txt=False, scale=0.5, seed=0, shear=0.0, show=False, show_boxes=True, show_conf=True, show_labels=True, simplify=True, single_cls=False, source=None, split=val, stream_buffer=False, task=pose, time=None, tracker=botsort.yaml, translate=0.1, val=True, verbose=True, vid_stride=1, visualize=False, warmup_bias_lr=0.1, warmup_epochs=3.0, warmup_momentum=0.8, weight_decay=0.0005, workers=8, workspace=None\n",
      "\n",
      "                   from  n    params  module                                       arguments                     \n",
      "  0                  -1  1      2784  ultralytics.nn.modules.conv.Conv             [3, 96, 3, 2]                 \n",
      "  1                  -1  1    166272  ultralytics.nn.modules.conv.Conv             [96, 192, 3, 2]               \n",
      "  2                  -1  2    389760  ultralytics.nn.modules.block.C3k2            [192, 384, 2, True, 0.25]     \n",
      "  3                  -1  1   1327872  ultralytics.nn.modules.conv.Conv             [384, 384, 3, 2]              \n",
      "  4                  -1  2   1553664  ultralytics.nn.modules.block.C3k2            [384, 768, 2, True, 0.25]     \n",
      "  5                  -1  1   5309952  ultralytics.nn.modules.conv.Conv             [768, 768, 3, 2]              \n",
      "  6                  -1  2   5022720  ultralytics.nn.modules.block.C3k2            [768, 768, 2, True]           \n",
      "  7                  -1  1   5309952  ultralytics.nn.modules.conv.Conv             [768, 768, 3, 2]              \n",
      "  8                  -1  2   5022720  ultralytics.nn.modules.block.C3k2            [768, 768, 2, True]           \n",
      "  9                  -1  1   1476864  ultralytics.nn.modules.block.SPPF            [768, 768, 5]                 \n",
      " 10                  -1  2   3264768  ultralytics.nn.modules.block.C2PSA           [768, 768, 2]                 \n",
      " 11                  -1  1         0  torch.nn.modules.upsampling.Upsample         [None, 2, 'nearest']          \n",
      " 12             [-1, 6]  1         0  ultralytics.nn.modules.conv.Concat           [1]                           \n",
      " 13                  -1  2   5612544  ultralytics.nn.modules.block.C3k2            [1536, 768, 2, True]          \n",
      " 14                  -1  1         0  torch.nn.modules.upsampling.Upsample         [None, 2, 'nearest']          \n",
      " 15             [-1, 4]  1         0  ultralytics.nn.modules.conv.Concat           [1]                           \n",
      " 16                  -1  2   1700352  ultralytics.nn.modules.block.C3k2            [1536, 384, 2, True]          \n",
      " 17                  -1  1   1327872  ultralytics.nn.modules.conv.Conv             [384, 384, 3, 2]              \n",
      " 18            [-1, 13]  1         0  ultralytics.nn.modules.conv.Concat           [1]                           \n",
      " 19                  -1  2   5317632  ultralytics.nn.modules.block.C3k2            [1152, 768, 2, True]          \n",
      " 20                  -1  1   5309952  ultralytics.nn.modules.conv.Conv             [768, 768, 3, 2]              \n",
      " 21            [-1, 10]  1         0  ultralytics.nn.modules.conv.Concat           [1]                           \n",
      " 22                  -1  2   5612544  ultralytics.nn.modules.block.C3k2            [1536, 768, 2, True]          \n",
      " 23        [16, 19, 22]  1   5059063  ultralytics.nn.modules.head.Pose             [1, [4, 3], [384, 768, 768]]  \n",
      "YOLO11x-pose summary: 372 layers, 58,787,287 parameters, 58,787,271 gradients, 203.8 GFLOPs\n",
      "\n",
      "Transferred 1057/1057 items from pretrained weights\n",
      "Freezing layer 'model.23.dfl.conv.weight'\n",
      "\u001b[34m\u001b[1mAMP: \u001b[0mrunning Automatic Mixed Precision (AMP) checks...\n",
      "Downloading https://github.com/ultralytics/assets/releases/download/v8.3.0/yolo11n.pt to 'yolo11n.pt'...\n"
     ]
    },
    {
     "name": "stderr",
     "output_type": "stream",
     "text": [
      "100%|██████████| 5.35M/5.35M [00:01<00:00, 4.32MB/s]\n"
     ]
    },
    {
     "name": "stdout",
     "output_type": "stream",
     "text": [
      "\u001b[34m\u001b[1mAMP: \u001b[0mchecks passed ✅\n",
      "\u001b[34m\u001b[1mtrain: \u001b[0mFast image access ✅ (ping: 0.0±0.0 ms, read: 767.0±474.6 MB/s, size: 23.6 KB)\n"
     ]
    },
    {
     "name": "stderr",
     "output_type": "stream",
     "text": [
      "\u001b[34m\u001b[1mtrain: \u001b[0mScanning /repos/image-corner-rotation/labels/train... 9260 images, 0 backgrounds, 0 corrupt: 100%|██████████| 9260/9260 [00:09<00:00, 1012.08it/s]\n"
     ]
    },
    {
     "name": "stdout",
     "output_type": "stream",
     "text": [
      "\u001b[34m\u001b[1mtrain: \u001b[0mNew cache created: /repos/image-corner-rotation/labels/train.cache\n",
      "WARNING ⚠️ cache='ram' may produce non-deterministic training results. Consider cache='disk' as a deterministic alternative if your disk space allows.\n"
     ]
    },
    {
     "name": "stderr",
     "output_type": "stream",
     "text": [
      "\u001b[34m\u001b[1mtrain: \u001b[0mCaching images (4.5GB RAM): 100%|██████████| 9260/9260 [00:05<00:00, 1756.88it/s]"
     ]
    },
    {
     "name": "stdout",
     "output_type": "stream",
     "text": [
      "\u001b[34m\u001b[1malbumentations: \u001b[0mBlur(p=0.01, blur_limit=(3, 7)), MedianBlur(p=0.01, blur_limit=(3, 7)), ToGray(p=0.01, method='weighted_average', num_output_channels=3), CLAHE(p=0.01, clip_limit=(1.0, 4.0), tile_grid_size=(8, 8))\n"
     ]
    },
    {
     "name": "stderr",
     "output_type": "stream",
     "text": [
      "\n"
     ]
    },
    {
     "name": "stdout",
     "output_type": "stream",
     "text": [
      "\u001b[34m\u001b[1mval: \u001b[0mFast image access ✅ (ping: 0.0±0.0 ms, read: 178.9±43.0 MB/s, size: 21.0 KB)\n"
     ]
    },
    {
     "name": "stderr",
     "output_type": "stream",
     "text": [
      "\u001b[34m\u001b[1mval: \u001b[0mScanning /repos/image-corner-rotation/labels/valid... 2645 images, 0 backgrounds, 0 corrupt: 100%|██████████| 2645/2645 [00:03<00:00, 783.18it/s]"
     ]
    },
    {
     "name": "stdout",
     "output_type": "stream",
     "text": [
      "\u001b[34m\u001b[1mval: \u001b[0mNew cache created: /repos/image-corner-rotation/labels/valid.cache\n"
     ]
    },
    {
     "name": "stderr",
     "output_type": "stream",
     "text": [
      "\n"
     ]
    },
    {
     "name": "stdout",
     "output_type": "stream",
     "text": [
      "WARNING ⚠️ cache='ram' may produce non-deterministic training results. Consider cache='disk' as a deterministic alternative if your disk space allows.\n"
     ]
    },
    {
     "name": "stderr",
     "output_type": "stream",
     "text": [
      "\u001b[34m\u001b[1mval: \u001b[0mCaching images (1.3GB RAM): 100%|██████████| 2645/2645 [00:01<00:00, 1656.65it/s]\n"
     ]
    },
    {
     "name": "stdout",
     "output_type": "stream",
     "text": [
      "Plotting labels to runs/pose/image_rotation_model_train/labels.jpg... \n",
      "\u001b[34m\u001b[1moptimizer:\u001b[0m 'optimizer=auto' found, ignoring 'lr0=0.01' and 'momentum=0.937' and determining best 'optimizer', 'lr0' and 'momentum' automatically... \n",
      "\u001b[34m\u001b[1moptimizer:\u001b[0m AdamW(lr=0.002, momentum=0.9) with parameter groups 173 weight(decay=0.0), 183 weight(decay=0.0005), 182 bias(decay=0.0)\n",
      "Image sizes 416 train, 416 val\n",
      "Using 8 dataloader workers\n",
      "Logging results to \u001b[1mruns/pose/image_rotation_model_train\u001b[0m\n",
      "Starting training for 10 epochs...\n",
      "Closing dataloader mosaic\n",
      "\u001b[34m\u001b[1malbumentations: \u001b[0mBlur(p=0.01, blur_limit=(3, 7)), MedianBlur(p=0.01, blur_limit=(3, 7)), ToGray(p=0.01, method='weighted_average', num_output_channels=3), CLAHE(p=0.01, clip_limit=(1.0, 4.0), tile_grid_size=(8, 8))\n",
      "\n",
      "      Epoch    GPU_mem   box_loss  pose_loss  kobj_loss   cls_loss   dfl_loss  Instances       Size\n"
     ]
    },
    {
     "name": "stderr",
     "output_type": "stream",
     "text": [
      "       1/10      12.9G     0.1932     0.1484     0.0211     0.1191     0.8506         12        416: 100%|██████████| 290/290 [01:55<00:00,  2.52it/s]\n",
      "                 Class     Images  Instances      Box(P          R      mAP50  mAP50-95)     Pose(P          R      mAP50  mAP50-95): 100%|██████████| 42/42 [00:43<00:00,  1.03s/it]"
     ]
    },
    {
     "name": "stdout",
     "output_type": "stream",
     "text": [
      "                   all       2645       2645      0.993      0.993      0.995      0.963      0.979       0.98      0.982      0.957\n"
     ]
    },
    {
     "name": "stderr",
     "output_type": "stream",
     "text": [
      "\n"
     ]
    }
   ],
   "source": [
    "model.train(\n",
    "    data='image_rotation.yaml',\n",
    "    epochs=10,\n",
    "    imgsz=416,\n",
    "    batch=32,\n",
    "    degrees=5.0,\n",
    "    mosaic=0.0,\n",
    "    auto_augment='none',\n",
    "    erasing=0.0,\n",
    "    cache='ram',\n",
    "    name='image_rotation_model_train',\n",
    "    exist_ok=True,\n",
    ")"
   ]
  },
  {
   "cell_type": "code",
   "execution_count": null,
   "id": "b1d4c2b7",
   "metadata": {},
   "outputs": [],
   "source": [
    "model = YOLO('runs/pose/image_rotation_model3/weights/best.pt')\n",
    "\n",
    "results = model.predict(\n",
    "    source='images/test',\n",
    "    save=True,\n",
    "    conf=0.25,\n",
    "    imgsz=320\n",
    ")"
   ]
  }
 ],
 "metadata": {
  "kernelspec": {
   "display_name": "Python 3",
   "language": "python",
   "name": "python3"
  },
  "language_info": {
   "codemirror_mode": {
    "name": "ipython",
    "version": 3
   },
   "file_extension": ".py",
   "mimetype": "text/x-python",
   "name": "python",
   "nbconvert_exporter": "python",
   "pygments_lexer": "ipython3",
   "version": "3.11.9"
  }
 },
 "nbformat": 4,
 "nbformat_minor": 5
}
