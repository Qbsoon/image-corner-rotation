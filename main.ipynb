{
 "cells": [
  {
   "cell_type": "code",
   "execution_count": null,
   "id": "b8c66f43",
   "metadata": {},
   "outputs": [],
   "source": [
    "# Importy do całego projektu\n",
    "import os\n",
    "from IPython.display import display, clear_output\n",
    "from ultralytics import YOLO\n",
    "from pathlib import Path\n",
    "import cv2\n",
    "import numpy as np\n",
    "import random\n",
    "from tqdm import tqdm"
   ]
  },
  {
   "cell_type": "code",
   "execution_count": null,
   "id": "c06cd52c",
   "metadata": {},
   "outputs": [],
   "source": [
    "import torch\n",
    "torch.cuda.is_available()"
   ]
  },
  {
   "cell_type": "code",
   "execution_count": null,
   "id": "8997b216",
   "metadata": {},
   "outputs": [],
   "source": [
    "import kagglehub\n",
    "#dataset_path = kagglehub.dataset_download(\"jessicali9530/lfw-dataset\")\n",
    "dataset_path = kagglehub.dataset_download(\"chiragsaipanuganti/morph\")"
   ]
  },
  {
   "cell_type": "code",
   "execution_count": null,
   "id": "29a5cbd7",
   "metadata": {},
   "outputs": [],
   "source": [
    "# Pobranie ścieżek do obrazów\n",
    "image_paths = []\n",
    "for root, dirs, files in os.walk(dataset_path):\n",
    "    for file in files:\n",
    "        if file.lower().endswith(('.jpg')):\n",
    "            image_paths.append(os.path.join(root, file))"
   ]
  },
  {
   "cell_type": "code",
   "execution_count": null,
   "id": "deb582ce",
   "metadata": {},
   "outputs": [],
   "source": [
    "def populate_card_labels_v3(image_path, height=400, width=400, im_width=250, im_height=250):\n",
    "\tcard = np.ones((height, width, 3), dtype=np.uint8) * 255\n",
    "\timg = cv2.imread(image_path)\n",
    "\timg = cv2.resize(img, (im_width, im_height))\n",
    "\timg = cv2.cvtColor(img, cv2.COLOR_BGR2RGB)\n",
    "\n",
    "\tdiagonal_size = int(np.sqrt(im_width**2 + im_height**2)) + 10\n",
    "\trot_canvas = np.ones((diagonal_size, diagonal_size, 3), dtype=np.uint8) * 255\n",
    "\tstart_x = (diagonal_size - im_width) // 2\n",
    "\tstart_y = (diagonal_size - im_height) // 2\n",
    "\trot_canvas[start_y:start_y + im_height, start_x:start_x + im_width] = img\n",
    "\n",
    "\trot_angle = random.uniform(-179, 180)\n",
    "\tcenter = (diagonal_size // 2, diagonal_size // 2)\n",
    "\trot_matrix = cv2.getRotationMatrix2D(center, rot_angle, 1.0)\n",
    "\trot_img = cv2.warpAffine(rot_canvas, rot_matrix, (diagonal_size, diagonal_size), borderValue=(255, 255, 255))\n",
    "\n",
    "\tcard_x = (width - diagonal_size) // 2\n",
    "\tcard_y = (height - diagonal_size) // 2\n",
    "\tcard[card_y:card_y+diagonal_size, card_x:card_x+diagonal_size] = rot_img\n",
    "\n",
    "\tcorners = np.array([\n",
    "\t\t[start_x, start_y],\n",
    "\t\t[start_x + im_width, start_y],\n",
    "\t\t[start_x + im_width, start_y + im_height],\n",
    "\t\t[start_x, start_y + im_height]\n",
    "\t], dtype=np.float32)\n",
    "\n",
    "\tones = np.ones((corners.shape[0], 1))\n",
    "\tcorners_homo = np.hstack([corners, ones])\n",
    "\trotated_corners = (rot_matrix @ corners_homo.T).T\n",
    "\trotated_corners += np.array([card_x, card_y])\n",
    "\n",
    "\tx_min, y_min = rotated_corners.min(axis=0)\n",
    "\tx_max, y_max = rotated_corners.max(axis=0)\n",
    "\n",
    "\tbbox_cx = (x_min + x_max) / 2 / width\n",
    "\tbbox_cy = (y_min + y_max) / 2 / height\n",
    "\tbbox_w = (x_max - x_min) / width\n",
    "\tbbox_h = (y_max - y_min) / height\n",
    "\n",
    "\tnorm_corners = []\n",
    "\tfor x, y in rotated_corners:\n",
    "\t\tnorm_corners.extend([x / width, y / height, 2])\n",
    "\n",
    "\tlabel = [0, bbox_cx, bbox_cy, bbox_w, bbox_h] + norm_corners\n",
    "\n",
    "\treturn card, label\n",
    "\n",
    "def get_cards_labels(image_paths, num, im_width, im_height, output_path, starting_idx=0):\n",
    "\toutput_path = Path(output_path)\n",
    "\timages_path = \"images\" / output_path\n",
    "\tlabels_path = \"labels\" / output_path\n",
    "\timages_path.mkdir(parents=True, exist_ok=True)\n",
    "\tlabels_path.mkdir(parents=True, exist_ok=True)\n",
    "\tcards = []\n",
    "\n",
    "\trandom.shuffle(image_paths)\n",
    "    \n",
    "\tfor i in range(starting_idx, starting_idx+num):\n",
    "\t\tcard, label = populate_card_labels_v3(\n",
    "\t\t\timage_paths[i],\n",
    "\t\t\tim_width=im_width,\n",
    "\t\t\tim_height=im_height\n",
    "\t\t)\n",
    "\n",
    "\t\tfilename = f\"card_{i+1}\"\n",
    "\t\timage_file = images_path / f\"{filename}.jpg\"\n",
    "\t\tlabel_file = labels_path / f\"{filename}.txt\"\n",
    "        \n",
    "\t\tcard_bgr = cv2.cvtColor(card, cv2.COLOR_RGB2BGR)\n",
    "\t\tcv2.imwrite(str(image_file), card_bgr)\n",
    "        \n",
    "\t\tlabel_line = \" \".join(f\"{v:.6f}\" if isinstance(v, float) else str(v) for v in label)\n",
    "\n",
    "\t\twith open(label_file, \"w\") as f:\n",
    "\t\t\tf.write(label_line)\n",
    "\n",
    "\t\tcards.append({\"filename\": f\"{filename}.jpg\", \"label\": label})\n",
    "    \n",
    "\treturn cards"
   ]
  },
  {
   "cell_type": "code",
   "execution_count": null,
   "id": "0bce0ae1",
   "metadata": {},
   "outputs": [],
   "source": [
    "for i in ['train_v3', 'valid_v3', 'test_v3']:\n",
    "\tfor j, k in zip([250, 200, 150, 175, 275], [0, 500, 1000, 1500, 2000]):\n",
    "\t\tcards = get_cards_labels(image_paths, num=500, im_width=j, im_height=j, output_path=i, starting_idx=k)"
   ]
  },
  {
   "cell_type": "code",
   "execution_count": null,
   "id": "15a84785",
   "metadata": {},
   "outputs": [],
   "source": [
    "model = YOLO('yolo11x-pose.pt')\n",
    "\n",
    "model.train(\n",
    "    data='image_rotation.yaml',\n",
    "    epochs=100,\n",
    "    imgsz=416,\n",
    "    batch=32,\n",
    "    degrees=5.0,\n",
    "    mosaic=0.0,\n",
    "    auto_augment='none',\n",
    "    erasing=0.0,\n",
    "    cache='ram',\n",
    "    name='image_rotation_model'\n",
    ")"
   ]
  },
  {
   "cell_type": "code",
   "execution_count": null,
   "id": "b1d4c2b7",
   "metadata": {},
   "outputs": [],
   "source": [
    "model = YOLO('runs/pose/image_rotation_model3/weights/best.pt')\n",
    "\n",
    "results = model.predict(\n",
    "    source='images/test_v3',\n",
    "    save=True,\n",
    "    conf=0.25,\n",
    "    imgsz=320\n",
    ")"
   ]
  }
 ],
 "metadata": {
  "kernelspec": {
   "display_name": "Python 3",
   "language": "python",
   "name": "python3"
  },
  "language_info": {
   "name": "python",
   "version": "3.11.9"
  }
 },
 "nbformat": 4,
 "nbformat_minor": 5
}
